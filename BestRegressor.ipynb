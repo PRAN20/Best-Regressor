{
  "nbformat": 4,
  "nbformat_minor": 0,
  "metadata": {
    "colab": {
      "name": "BestRegressor.ipynb",
      "provenance": [],
      "authorship_tag": "ABX9TyOw1npNsUkBIbFktJr/Q+Ia",
      "include_colab_link": true
    },
    "kernelspec": {
      "name": "python3",
      "display_name": "Python 3"
    },
    "language_info": {
      "name": "python"
    }
  },
  "cells": [
    {
      "cell_type": "markdown",
      "metadata": {
        "id": "view-in-github",
        "colab_type": "text"
      },
      "source": [
        "<a href=\"https://colab.research.google.com/github/PRAN20/Best-Regressor/blob/main/BestRegressor.ipynb\" target=\"_parent\"><img src=\"https://colab.research.google.com/assets/colab-badge.svg\" alt=\"Open In Colab\"/></a>"
      ]
    },
    {
      "cell_type": "markdown",
      "source": [
        "**Importing Header Files**"
      ],
      "metadata": {
        "id": "Pm0unvpFO_p2"
      }
    },
    {
      "cell_type": "code",
      "execution_count": 54,
      "metadata": {
        "id": "Ac4cFJQSO0eS"
      },
      "outputs": [],
      "source": [
        "import pandas as ps\n",
        "import numpy as np\n",
        "import matplotlib.pyplot as mt"
      ]
    },
    {
      "cell_type": "markdown",
      "source": [
        "**Importing DataSets**"
      ],
      "metadata": {
        "id": "6DmDYRGJPD99"
      }
    },
    {
      "cell_type": "code",
      "source": [
        "dataset = ps.read_csv('Data.csv')\n",
        "x = dataset.iloc[ :, :-1].values\n",
        "y = dataset.iloc[ :, -1].values"
      ],
      "metadata": {
        "id": "GzEsZW6iPQB0"
      },
      "execution_count": 55,
      "outputs": []
    },
    {
      "cell_type": "markdown",
      "source": [
        "**Spliting DataSet**"
      ],
      "metadata": {
        "id": "8kuwm4SNPyEU"
      }
    },
    {
      "cell_type": "code",
      "source": [
        "from sklearn.model_selection import train_test_split\n",
        "x_train, x_test, y_train, y_test = train_test_split(x, y, test_size = 0.2, random_state = 0)"
      ],
      "metadata": {
        "id": "sUZfL6CbP1jK"
      },
      "execution_count": 56,
      "outputs": []
    },
    {
      "cell_type": "code",
      "source": [
        "print(x_train)"
      ],
      "metadata": {
        "colab": {
          "base_uri": "https://localhost:8080/"
        },
        "id": "NKPaPXMfRHxC",
        "outputId": "94ca0e9e-3d94-420d-c1b4-ea143db20f6d"
      },
      "execution_count": 57,
      "outputs": [
        {
          "output_type": "stream",
          "name": "stdout",
          "text": [
            "[[  11.22   43.13 1017.24   80.9 ]\n",
            " [  13.67   54.3  1015.92   75.42]\n",
            " [  32.84   77.95 1014.68   45.8 ]\n",
            " ...\n",
            " [  16.81   38.52 1018.26   75.21]\n",
            " [  12.8    41.16 1022.43   86.19]\n",
            " [  32.32   67.9  1006.08   37.93]]\n"
          ]
        }
      ]
    },
    {
      "cell_type": "markdown",
      "source": [
        "**Performing Multiple Regression**"
      ],
      "metadata": {
        "id": "4Jk0oAhZP-7b"
      }
    },
    {
      "cell_type": "code",
      "source": [
        "mult_x = x\n",
        "mult_y = y"
      ],
      "metadata": {
        "id": "-NIxPR6fQD7t"
      },
      "execution_count": 58,
      "outputs": []
    },
    {
      "cell_type": "code",
      "source": [
        "from sklearn.linear_model import LinearRegression\n",
        "regressor = LinearRegression()\n",
        "regressor.fit(x_train,y_train)"
      ],
      "metadata": {
        "colab": {
          "base_uri": "https://localhost:8080/"
        },
        "id": "evYpm3JBQXnI",
        "outputId": "5f209b3d-6fa0-4a91-aaa0-417535de17d4"
      },
      "execution_count": 59,
      "outputs": [
        {
          "output_type": "execute_result",
          "data": {
            "text/plain": [
              "LinearRegression()"
            ]
          },
          "metadata": {},
          "execution_count": 59
        }
      ]
    },
    {
      "cell_type": "code",
      "source": [
        "y_pred = regressor.predict(x_test)\n",
        "np.set_printoptions(precision=2)\n",
        "print(np.concatenate((y_pred.reshape(len(y_pred),1), y_test.reshape(len(y_test),1)),1))"
      ],
      "metadata": {
        "colab": {
          "base_uri": "https://localhost:8080/"
        },
        "id": "0TJ3Xt3HQexY",
        "outputId": "3651a878-9f8c-4d7a-a394-71ff33fa153a"
      },
      "execution_count": 60,
      "outputs": [
        {
          "output_type": "stream",
          "name": "stdout",
          "text": [
            "[[431.43 431.23]\n",
            " [458.56 460.01]\n",
            " [462.75 461.14]\n",
            " ...\n",
            " [469.52 473.26]\n",
            " [442.42 438.  ]\n",
            " [461.88 463.28]]\n"
          ]
        }
      ]
    },
    {
      "cell_type": "code",
      "source": [
        "from sklearn.metrics import r2_score\n",
        "res_mult = r2_score(y_test, y_pred)"
      ],
      "metadata": {
        "id": "7HJoOnyYQluT"
      },
      "execution_count": 61,
      "outputs": []
    },
    {
      "cell_type": "code",
      "source": [
        "print(res_mult)"
      ],
      "metadata": {
        "colab": {
          "base_uri": "https://localhost:8080/"
        },
        "id": "FlSbu5_RQ8cl",
        "outputId": "b7c77055-0762-4177-8d50-fa2c09598ac1"
      },
      "execution_count": 62,
      "outputs": [
        {
          "output_type": "stream",
          "name": "stdout",
          "text": [
            "0.9325315554761302\n"
          ]
        }
      ]
    },
    {
      "cell_type": "code",
      "source": [
        "print(x_train)"
      ],
      "metadata": {
        "colab": {
          "base_uri": "https://localhost:8080/"
        },
        "id": "ujmEQJZ4RLnJ",
        "outputId": "2d6a6c2f-0b64-4182-9512-de0f343c1cdf"
      },
      "execution_count": 63,
      "outputs": [
        {
          "output_type": "stream",
          "name": "stdout",
          "text": [
            "[[  11.22   43.13 1017.24   80.9 ]\n",
            " [  13.67   54.3  1015.92   75.42]\n",
            " [  32.84   77.95 1014.68   45.8 ]\n",
            " ...\n",
            " [  16.81   38.52 1018.26   75.21]\n",
            " [  12.8    41.16 1022.43   86.19]\n",
            " [  32.32   67.9  1006.08   37.93]]\n"
          ]
        }
      ]
    },
    {
      "cell_type": "markdown",
      "source": [
        "**Performing Polynomial Regression**"
      ],
      "metadata": {
        "id": "Y2xQ2rLGQ_4K"
      }
    },
    {
      "cell_type": "code",
      "source": [
        "poly_x = x\n",
        "poly_y = y"
      ],
      "metadata": {
        "id": "CDjufQIkRQ8k"
      },
      "execution_count": 64,
      "outputs": []
    },
    {
      "cell_type": "code",
      "source": [
        "from sklearn.preprocessing import PolynomialFeatures\n",
        "from sklearn.linear_model import LinearRegression\n",
        "poly_reg = PolynomialFeatures(degree = 4)\n",
        "X_poly = poly_reg.fit_transform(x_train)\n",
        "regressor = LinearRegression()\n",
        "regressor.fit(X_poly, y_train)"
      ],
      "metadata": {
        "colab": {
          "base_uri": "https://localhost:8080/"
        },
        "id": "l8ujfc0jRa9-",
        "outputId": "ed01f939-3b17-47d6-f3bf-9ddd28dfdee2"
      },
      "execution_count": 65,
      "outputs": [
        {
          "output_type": "execute_result",
          "data": {
            "text/plain": [
              "LinearRegression()"
            ]
          },
          "metadata": {},
          "execution_count": 65
        }
      ]
    },
    {
      "cell_type": "code",
      "source": [
        "y_pred = regressor.predict(poly_reg.transform(x_test))\n",
        "np.set_printoptions(precision=2)\n",
        "print(np.concatenate((y_pred.reshape(len(y_pred),1), y_test.reshape(len(y_test),1)),1))"
      ],
      "metadata": {
        "colab": {
          "base_uri": "https://localhost:8080/"
        },
        "id": "eIGa6lMdRlt8",
        "outputId": "e04d9b3b-5d30-47ee-81d4-f1ba580ee13c"
      },
      "execution_count": 66,
      "outputs": [
        {
          "output_type": "stream",
          "name": "stdout",
          "text": [
            "[[433.94 431.23]\n",
            " [457.9  460.01]\n",
            " [460.52 461.14]\n",
            " ...\n",
            " [469.53 473.26]\n",
            " [438.27 438.  ]\n",
            " [461.66 463.28]]\n"
          ]
        }
      ]
    },
    {
      "cell_type": "code",
      "source": [
        "from sklearn.metrics import r2_score\n",
        "res_poly = r2_score(y_test, y_pred)"
      ],
      "metadata": {
        "id": "HYsLiX1tRsxf"
      },
      "execution_count": 67,
      "outputs": []
    },
    {
      "cell_type": "markdown",
      "source": [
        "**Performing Random Forest Regression**"
      ],
      "metadata": {
        "id": "0zGE5jICRxPL"
      }
    },
    {
      "cell_type": "code",
      "source": [
        "ran_x = x\n",
        "ran_y = y"
      ],
      "metadata": {
        "id": "_lQEiFhvR3WA"
      },
      "execution_count": 68,
      "outputs": []
    },
    {
      "cell_type": "code",
      "source": [
        "from sklearn.ensemble import RandomForestRegressor\n",
        "regressor = RandomForestRegressor(n_estimators = 10, random_state = 0)\n",
        "regressor.fit(x_train, y_train)"
      ],
      "metadata": {
        "colab": {
          "base_uri": "https://localhost:8080/"
        },
        "id": "-2ZPKVbuSC-p",
        "outputId": "c405c737-4ef6-47ae-9add-e89de951a40b"
      },
      "execution_count": 69,
      "outputs": [
        {
          "output_type": "execute_result",
          "data": {
            "text/plain": [
              "RandomForestRegressor(n_estimators=10, random_state=0)"
            ]
          },
          "metadata": {},
          "execution_count": 69
        }
      ]
    },
    {
      "cell_type": "code",
      "source": [
        "y_pred = regressor.predict(x_test)\n",
        "np.set_printoptions(precision=2)\n",
        "print(np.concatenate((y_pred.reshape(len(y_pred),1), y_test.reshape(len(y_test),1)),1))"
      ],
      "metadata": {
        "colab": {
          "base_uri": "https://localhost:8080/"
        },
        "id": "HLqCZhPfSL2c",
        "outputId": "a8a28723-2473-4253-b2e3-b69d9ee43ab5"
      },
      "execution_count": 70,
      "outputs": [
        {
          "output_type": "stream",
          "name": "stdout",
          "text": [
            "[[434.05 431.23]\n",
            " [458.79 460.01]\n",
            " [463.02 461.14]\n",
            " ...\n",
            " [469.48 473.26]\n",
            " [439.57 438.  ]\n",
            " [460.38 463.28]]\n"
          ]
        }
      ]
    },
    {
      "cell_type": "code",
      "source": [
        "from sklearn.metrics import r2_score\n",
        "res_ran = r2_score(y_test, y_pred)"
      ],
      "metadata": {
        "id": "iC0RXZ-RSQDW"
      },
      "execution_count": 71,
      "outputs": []
    },
    {
      "cell_type": "markdown",
      "source": [
        "**Performing Decision Tree Regression**"
      ],
      "metadata": {
        "id": "uIxwjZ9JSW4y"
      }
    },
    {
      "cell_type": "code",
      "source": [
        "from sklearn.tree import DecisionTreeRegressor\n",
        "regressor = DecisionTreeRegressor(random_state = 0)\n",
        "regressor.fit(x_train, y_train)"
      ],
      "metadata": {
        "colab": {
          "base_uri": "https://localhost:8080/"
        },
        "id": "uRYkXmQzSoVs",
        "outputId": "34418e39-a282-4298-b40d-aec4a0832a1c"
      },
      "execution_count": 72,
      "outputs": [
        {
          "output_type": "execute_result",
          "data": {
            "text/plain": [
              "DecisionTreeRegressor(random_state=0)"
            ]
          },
          "metadata": {},
          "execution_count": 72
        }
      ]
    },
    {
      "cell_type": "code",
      "source": [
        "y_pred = regressor.predict(x_test)\n",
        "np.set_printoptions(precision=2)\n",
        "print(np.concatenate((y_pred.reshape(len(y_pred),1), y_test.reshape(len(y_test),1)),1))"
      ],
      "metadata": {
        "colab": {
          "base_uri": "https://localhost:8080/"
        },
        "id": "HmqtR8hHSxZJ",
        "outputId": "055502b3-40e4-42df-9c3c-d0bc31530893"
      },
      "execution_count": 73,
      "outputs": [
        {
          "output_type": "stream",
          "name": "stdout",
          "text": [
            "[[431.28 431.23]\n",
            " [459.59 460.01]\n",
            " [460.06 461.14]\n",
            " ...\n",
            " [471.46 473.26]\n",
            " [437.76 438.  ]\n",
            " [462.74 463.28]]\n"
          ]
        }
      ]
    },
    {
      "cell_type": "code",
      "source": [
        "from sklearn.metrics import r2_score\n",
        "res_tree  = r2_score(y_test, y_pred)"
      ],
      "metadata": {
        "id": "u6xMTG1eSyzm"
      },
      "execution_count": 74,
      "outputs": []
    },
    {
      "cell_type": "markdown",
      "source": [
        "**Printing Results from All the Regression**"
      ],
      "metadata": {
        "id": "fV6Rdd4CTB_a"
      }
    },
    {
      "cell_type": "code",
      "source": [
        "print('ACCURACY FROM MULTIPLE REGRESSION IS', res_mult)\n",
        "print('ACCURACY FROM POLYNOMIAL REGRESSION IS', res_poly)\n",
        "print('ACCURACY FROM RANDOM FOREST REGRESSION IS', res_ran)\n",
        "print('ACCURACY FROM DECISION TREE REGRESSION IS', res_tree)"
      ],
      "metadata": {
        "colab": {
          "base_uri": "https://localhost:8080/"
        },
        "id": "Puh6irGJTIZl",
        "outputId": "ee128371-15c7-4edc-d8f0-7ee85546b89d"
      },
      "execution_count": 75,
      "outputs": [
        {
          "output_type": "stream",
          "name": "stdout",
          "text": [
            "ACCURACY FROM MULTIPLE REGRESSION IS 0.9325315554761302\n",
            "ACCURACY FROM POLYNOMIAL REGRESSION IS 0.9458192606428238\n",
            "ACCURACY FROM RANDOM FOREST REGRESSION IS 0.9615908334363876\n",
            "ACCURACY FROM DECISION TREE REGRESSION IS 0.922905874177941\n"
          ]
        }
      ]
    },
    {
      "cell_type": "markdown",
      "source": [
        "**Checking Which Model is Best for the Given DataSet**"
      ],
      "metadata": {
        "id": "9gab_SjiT2GV"
      }
    },
    {
      "cell_type": "code",
      "source": [
        "list = [res_mult, res_poly, res_ran, res_tree]"
      ],
      "metadata": {
        "id": "9ru-EYlPT8ji"
      },
      "execution_count": 76,
      "outputs": []
    },
    {
      "cell_type": "code",
      "source": [
        "ans_reg = max(list)"
      ],
      "metadata": {
        "id": "4yveeOxkUoD-"
      },
      "execution_count": 77,
      "outputs": []
    },
    {
      "cell_type": "code",
      "source": [
        "if ans_reg == res_mult:\n",
        "  print('Multiple Regression Has The Highest Accuracy')\n",
        "if ans_reg == res_poly:\n",
        "  print('Polynomial Regression Has The Highest Accuracy')\n",
        "  flag = 1\n",
        "if ans_reg == res_ran:\n",
        "  print('Random Forest Regression Has The Highest Accuracy')\n",
        "  flag = 2\n",
        "if ans_reg == res_tree:\n",
        "  print('Decision Tree Has The Highest Accuracy')\n",
        "  flag = 3"
      ],
      "metadata": {
        "colab": {
          "base_uri": "https://localhost:8080/"
        },
        "id": "FXbQ_tWUWB0W",
        "outputId": "3419b6e7-77fb-460a-8379-09ea6b8e2dd8"
      },
      "execution_count": 78,
      "outputs": [
        {
          "output_type": "stream",
          "name": "stdout",
          "text": [
            "Random Forest Regression Has The Highest Accuracy\n"
          ]
        }
      ]
    }
  ]
}